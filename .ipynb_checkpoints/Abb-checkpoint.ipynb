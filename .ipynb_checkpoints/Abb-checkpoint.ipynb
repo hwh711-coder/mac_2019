{
 "cells": [
  {
   "cell_type": "markdown",
   "id": "f05aa8d0",
   "metadata": {},
   "source": [
    "# A\n",
    "# B\n",
    "# C \n",
    "- CIM 计算机内存 (compute-in-memory)\n",
    "\n",
    "# D\n",
    "# E\n",
    "# F\n",
    "# G\n",
    "# H\n",
    "- HEFT 异质性最高的完成时间 (The heterogeneousearliest finish time)\n",
    "\n",
    "# I\n",
    "# J\n",
    "# K\n",
    "# L\n",
    "# M\n",
    "- MCU 微控制单元 (Micro Control Unit) \n",
    "\n",
    "# N\n",
    "- NIC  网卡（network interface card）\n",
    " - 网络接口控制器（英语：network interface controller，NIC），又称网络接口控制器，网络适配器（network adapter），或局域网接收器（LAN adapter）\n",
    " \n",
    "# O\n",
    "# P\n",
    "# Q\n",
    "# R\n",
    "- RPC 远程过程调用（Remote Procedure Call）\n",
    "  - 简单的理解是一个节点请求另一个节点提供的服务\n",
    "- FPGA（Field Programmable Gate Array）\n",
    "  - 是在PAL、GAL等可编程器件的基础上进一步发展的产物\n",
    "  - 它是作为专用集成电路（ASIC）领域中的一种半定制电路而出现的，既解决了定制电路的不足，又克服了原有可编程器件门电路数有限的缺点\n",
    "  - \n",
    "\n",
    "# S\n",
    "# T\n",
    "# U \n",
    "# V \n",
    "# W\n",
    "# X\n",
    "- XEFT 排他早期完成时间 (The exclusive earliestfinish time)\n",
    "\n",
    "# Y\n",
    "# Z\n"
   ]
  }
 ],
 "metadata": {
  "kernelspec": {
   "display_name": "Python 3",
   "language": "python",
   "name": "python3"
  },
  "language_info": {
   "codemirror_mode": {
    "name": "ipython",
    "version": 3
   },
   "file_extension": ".py",
   "mimetype": "text/x-python",
   "name": "python",
   "nbconvert_exporter": "python",
   "pygments_lexer": "ipython3",
   "version": "3.7.6"
  }
 },
 "nbformat": 4,
 "nbformat_minor": 5
}
