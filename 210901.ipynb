{
 "cells": [
  {
   "cell_type": "markdown",
   "id": "998751d3",
   "metadata": {},
   "source": [
    "# Guest Editorial: IEEE TC Special Issue On Smart Edge Computing and IoT \n",
    "#### published in Aug. 2021"
   ]
  },
  {
   "cell_type": "markdown",
   "id": "7b11ed28",
   "metadata": {},
   "source": [
    "## \"Task Mapping and Scheduling for OpenVX Applications on Heterogeneous Multi-/Many-Core Architectures”\n",
    "1. Improves the system performance of the OpenVX platform by taking holistic schedulingand mapping of resources.\n",
    "2. Implements a heterogeneousearliest finish time (HEFT) heuristic, and it is applied to thestatic scheduling of OpenVX applications achieving up to 70% performance improvement.\n",
    "3. The exclusive earliestfinish time (XEFT) algorithm is also presented to introduce the notion of exclusive overlap between single implementationprimitives to improve the load balancing achieving 33% performance improvement over HEFT\n"
   ]
  },
  {
   "cell_type": "markdown",
   "id": "acac48ed",
   "metadata": {},
   "source": [
    "## “ZigZag: Enlarging Joint Architecture-Mapping DesignSpace Exploration for DNN Accelerators”\n",
    "1. Proposes a memory-centric DNN codesign framework for extending the design space exploration with uneven mapping and smart searching strategies. \n",
    "2. Benchmark experiments show up to 33% improvement of energy efficiency compared with the state-of-the-art frameworks."
   ]
  },
  {
   "cell_type": "markdown",
   "id": "0d9aee56",
   "metadata": {},
   "source": [
    "## “Real-Time Detection of Hogweed: UAV Platform Empowered by Deep Learning”\n",
    "1. Presents a case study on optimizing deep learning for running on a single board computer for hogweed detection from unmanned aerial vehicles. \n",
    "2. The proposed system, including the fully convolutional neural networks optimizes the detection quality and frame rate, achieving 0.96 ROC AUC in the hogweed segmentation task using 0.46 frame per second 4K resolution frames on the NVIDIA Jetson Nano platform. "
   ]
  },
  {
   "cell_type": "markdown",
   "id": "fa344ee0",
   "metadata": {},
   "source": [
    "## \"Minimal  Complexity  Machines  UnderWeight Quantization\"\n",
    "1. Analyzes the effect of parameter quantization on the performance, a number ofsupport vectors, model size, L2 norm, and run time on various Least Squares (LS) kernel algorithms. \n",
    "2. EFS based algorithms result in higher accuracy, lower L2 norm,and least number of support vectors compared to LS-SVM variants. \n",
    "3. EFS-based algorithms can attain a performance level similar to or even higher than full precision (32 bits), with as small as 3 integer and 5 fraction bits.\n",
    "4. This has significant implications for implementation in the Internet of Things (IoT) devices, which benefit from model sparsity(スパースモデリング) and good generalization(汎化性能).\n"
   ]
  },
  {
   "cell_type": "markdown",
   "id": "6f321825",
   "metadata": {},
   "source": [
    "## \"E<sup>2</sup>CNNs: Ensembles of Convolutional Neural Networks(CNNs) to Improve Robustness Against MemoryErrors  in  Edge-Computing  Devices\"\n",
    "1. Introduces a novel architectural design methodology(E<sup>2</sup>CNNs) to conceive ensembles of CNNs improving robustness against memory errors compared to a single-instance network, in low power deployment. \n",
    "2. Applies SoA compression methods to produce an ensemble with the same memory requirements as the original architecture but with improved error robustness. \n",
    "3. To evaluate the robustness of E<sup>2</sup>CNNs for different error types and densities, and their ability to achieve energy savings, the authors propose two error models that simulate the behavior of SRAM and eDRAM when operating at subnominal conditions. \n",
    "4. The result shows that E<sup>2</sup>CNNs achieve energy savings of up to 80% for LeNet-5, 90% for AlexNet, 60% for GoogLeNet while minimizing the impact on accuracy. \n",
    "5. The memory size can be decreased up to 54% by reducing the number of members in the ensemble."
   ]
  },
  {
   "cell_type": "markdown",
   "id": "202467b1",
   "metadata": {},
   "source": [
    "## <font color=red size=5>\"Design and Simulation of a Hybrid Architecture for Edge Computing in 5G and Beyond\"\n",
    "1. Explores computing techniques and architectural frameworks for Edge Computing in 5G at ultra-low latency applications. \n",
    "2. Authors propose a hybrid architecturethat takes advantage of novel and sustainable technologies(e.g., D2D communication, Massive MIMO, SDN, and NFV) and has major features such as scalability, reliability, and ultra-low latency support."
   ]
  },
  {
   "cell_type": "markdown",
   "id": "9c10bc3f",
   "metadata": {},
   "source": [
    "## \"AILC: Accelerate On-Chip Incremental Learning With Compute-in-Memory Technology\"\n",
    "1. Presents a compute-in-memory (CIM)-a based accelerator for on-chip incremental learning using STT-MRAM technology.\n",
    "2. Furthermore, on the software side, a network expansion based low-precision training algorithm is proposed for incremental learning, where the loss function is modified to handle the unbalanced training dataset. \n",
    "3. A workload-aware hardwarere sources assignment protocol is proposed to improve the throughput when the workload of weight gradient calculationis low. Compared to the baseline, the throughput of AILC is improved by 2.2x on average with the hardware resources assignment protocol. \n",
    "3. Focused on the deployment of DNNs on IoT devices. The paper “Distributed Deep Convolutional Neural Networks for theInternet-of-Things” introduces a design methodology for allocating the execution of CNNs on a distributed IoT application, aiming at reducing the latency and decision-making through an optimization strategy."
   ]
  },
  {
   "cell_type": "markdown",
   "id": "5a73c679",
   "metadata": {},
   "source": [
    "## <font color=red size=5>\"DORY: Automatic End-to-End Deployment of Real-World DNNs on Low-Cost IoT MCUs\"\n",
    "1. Focuses on the memory optimization suitable for resource constrained IoT nodes. \n",
    "2. DORY provides an automatic tool to deploy DNNs on low-cost MCUs with typicallyless than 1MB of on-chip SRAM memory."
   ]
  },
  {
   "cell_type": "markdown",
   "id": "10a329d4",
   "metadata": {},
   "source": [
    "## “MulTa-HDC: AMulti-Task Learning Framework for Hyperdimensional Computing”\n",
    "1. Targets the use case of hyperdimensional computing paradigm for efficient multi-task learning. \n",
    "2. Establish a framework that effectively combines a set of associative memories across different tasks while providinga flexible and efficient trade-off between memory overhead and performance degradation."
   ]
  },
  {
   "cell_type": "markdown",
   "id": "28f1c168",
   "metadata": {},
   "source": [
    "## \"EIHDP: Edge-Intelligent Hierarchical Dynamic Pricing Based on Cloud-Edge-Client Collaboration for IoT Systems\"\n",
    "1. Tries to address the challenge of anappropriate pricing scheme with incomplete information.\n",
    "2. Design an edge-intelligent hierarchical dynamic pricing mechanism based on cloud-edge client collaboration that utilizes a double-label radius k-nearest neighbors algorithm."
   ]
  },
  {
   "cell_type": "markdown",
   "id": "e3414a56",
   "metadata": {},
   "source": [
    "## \"Ameliorate Performance of Memristor-Based ANNs in Edge Computing\"\n",
    "1. Presents a solution for increasing energy efficiencyand reducing the delay time, thereby improving the performance of ANNs in edge computing systems. \n",
    "2. The Number of Pulses Compression (NPC) method is proposed to optimize pulse distribution, energy consumption, and latency by compressing the number of pulses in every weight update step. \n",
    "3. The NPC method is implemented and verified in a memristor-based hardware simulator based on the MNIST and CIFAR-10 dataset under different circumstances of variations, failure rates, agingeffects, architectures, and algorithms.\n",
    "\n",
    "<br/>\n",
    "<br/>\n",
    "<br/>\n",
    "<br/>"
   ]
  },
  {
   "cell_type": "markdown",
   "id": "1a049140",
   "metadata": {},
   "source": [
    "# “Design and Simulation of a Hybrid Architecturefor Edge Computing in 5G and Beyond”\n",
    "1. This paper deeply investigates Edge Computing in 5G and characterizes it based on the requirements of ultra-low latency applications. \n",
    "2. We propose a hybrid architecturethat takes advantage of novel and sustainable technologies (e.g.D2D communication, Massive MIMO, SDN, and NFV) and has major features such as scalability, reliability and ultra-low latency support.  "
   ]
  }
 ],
 "metadata": {
  "kernelspec": {
   "display_name": "Python 3",
   "language": "python",
   "name": "python3"
  },
  "language_info": {
   "codemirror_mode": {
    "name": "ipython",
    "version": 3
   },
   "file_extension": ".py",
   "mimetype": "text/x-python",
   "name": "python",
   "nbconvert_exporter": "python",
   "pygments_lexer": "ipython3",
   "version": "3.7.6"
  }
 },
 "nbformat": 4,
 "nbformat_minor": 5
}
